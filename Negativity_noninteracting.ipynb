{
 "cells": [
  {
   "cell_type": "code",
   "execution_count": 1,
   "metadata": {},
   "outputs": [],
   "source": [
    "import numpy as np\n",
    "from scipy.linalg import block_diag\n",
    "import random\n",
    "from math import pi, sqrt\n",
    "import sys\n",
    "import os.path\n",
    "import matplotlib.pyplot as plt\n",
    "import time"
   ]
  },
  {
   "cell_type": "code",
   "execution_count": 25,
   "metadata": {},
   "outputs": [],
   "source": [
    "# generates single particle states\n",
    "def wf_gen(N,N_pt,BC,t1,t2):\n",
    "    h1=np.ones(N-1)\n",
    "    h1[0::2]=0\n",
    "    h2=np.ones(N-1)\n",
    "    h2[1::2]=0\n",
    "#     print(h1,h2)\n",
    "    hop= np.diag(t1*h1+t2*h2+0j,1)\n",
    "    hop[N-1,0]= t1*BC\n",
    "    H_t= -(hop+ np.matrix(hop).H)/2 \n",
    "    energies, evecs= np.linalg.eigh(H_t)\n",
    "    return evecs[:,:N_pt]\n",
    "\n",
    "def exact_renyi_calc(r,GA,epsilon=1e-9):\n",
    "    chi0, _ =np.linalg.eigh(GA)\n",
    "    chi1=chi0[np.nonzero(np.abs(chi0)>epsilon)]\n",
    "    chi2=chi1[np.nonzero(np.abs(chi1-1)>epsilon)]\n",
    "#     return -np.sum((1-chi2)*np.log(1-chi2)+chi2*np.log(chi2))\n",
    "    return np.sum(np.log((1-chi2)**r+chi2**r))/(1-r)\n",
    "\n",
    "\n",
    "def exact_log_neg_calc(Na,Nb,GA,epsilon=1e-9):\n",
    "    \"\"\"computes log negativity of 1d free fermions\"\"\"\n",
    "    Nt=Na+Nb\n",
    "\n",
    "    Gm=np.eye(Nt)-2*GA\n",
    "    Sp=np.array([[0,1],[0,0]])\n",
    "    Gm_1=block_diag(-Gm[:Na,:Na],Gm[Na:,Na:])\\\n",
    "        +np.kron(Sp,-1j*Gm[:Na,Na:])+np.kron(Sp.T,-1j*Gm[Na:,:Na])\n",
    "    Gm_2=block_diag(-Gm[:Na,:Na],Gm[Na:,Na:])\\\n",
    "        +np.kron(Sp,1j*Gm[:Na,Na:])+np.kron(Sp.T,1j*Gm[Na:,:Na])    \n",
    "    Gx=np.dot(np.eye(Nt)-Gm_2,np.dot(np.linalg.inv(np.eye(Nt)+np.dot(Gm_1,Gm_2)),np.eye(Nt)-Gm_1))/2\n",
    "    Gxh=(Gx+np.transpose(Gx).conj())/2\n",
    "\n",
    "    chi0 =np.linalg.eigvalsh(Gxh)\n",
    "    i0=np.nonzero(np.abs(chi0)>epsilon)[0]\n",
    "    chi1=chi0[i0]\n",
    "    i1=np.nonzero(np.abs(chi1-1)>epsilon)[0]\n",
    "    nu=chi1[i1]\n",
    "    eA=np.sum(np.log(nu**0.5+(1-nu)**0.5))\n",
    "    \n",
    "    chi,VR=np.linalg.eigh(GA)\n",
    "    sA=np.sum(np.log(chi**2+(1-chi)**2))/2    \n",
    "\n",
    "    return eA+sA\n",
    "\n",
    "def exact_Renyi_neg_calc2(r,Na,Nb,GA,epsilon=1e-9):\n",
    "    \"\"\"computes log negativity of 1d free fermions only works for even r\"\"\"\n",
    "    Nt=Na+Nb\n",
    "\n",
    "    Gm=np.eye(Nt)-2*GA\n",
    "    Sp=np.array([[0,1],[0,0]])\n",
    "    Gm_1=block_diag(-Gm[:Na,:Na],Gm[Na:,Na:])\\\n",
    "        +np.kron(Sp,-1j*Gm[:Na,Na:])+np.kron(Sp.T,-1j*Gm[Na:,:Na])\n",
    "    Gm_2=block_diag(-Gm[:Na,:Na],Gm[Na:,Na:])\\\n",
    "        +np.kron(Sp,1j*Gm[:Na,Na:])+np.kron(Sp.T,1j*Gm[Na:,:Na])    \n",
    "    Gx=np.dot(np.eye(Nt)-Gm_2,np.dot(np.linalg.inv(np.eye(Nt)+np.dot(Gm_1,Gm_2)),np.eye(Nt)-Gm_1))/2\n",
    "    Gxh=(Gx+np.transpose(Gx).conj())/2\n",
    "\n",
    "    chi0 =np.linalg.eigvalsh(Gxh)\n",
    "    i0=np.nonzero(np.abs(chi0)>epsilon)[0]\n",
    "    chi1=chi0[i0]\n",
    "    i1=np.nonzero(np.abs(chi1-1)>epsilon)[0]\n",
    "    nu=chi1[i1]\n",
    "    eA=np.sum(np.log(nu**(r/2)+(1-nu)**(r/2)))\n",
    "    \n",
    "    chi,VR=np.linalg.eigh(GA)\n",
    "    sA=r*np.sum(np.log(chi**2+(1-chi)**2))/2    \n",
    "\n",
    "    return eA+sA\n",
    "\n",
    "def exact_Renyi_neg_calc(r,N,Na,Nb,V1):\n",
    "    '''computes moments of partial transpose tr(\\rho^T \\rho^T\\dag ... )\n",
    "    for 1d free fermions ''' \n",
    "    k_sw=np.arange((-(r-1)/2),(r-1)/2+0.1,1)\n",
    "    Zk=0\n",
    "    if (r % 2) == 0:\n",
    "        delta=pi\n",
    "    else:\n",
    "        delta= pi*(r-1)/r\n",
    "#     delta=pi\n",
    "\n",
    "    Nflip=Na+Nb\n",
    "    N1=int((N-Nflip)/2)\n",
    "\n",
    "    for i_k in range(len(k_sw)):\n",
    "#         op_k=block_diag(np.eye(N1),np.exp(1j*2*pi/r*k_sw[i_k])*np.eye(Na),np.exp(1j*delta-1j*2*pi/r*k_sw[i_k])*np.eye(Nb),np.eye(N1))\n",
    "        op_k=block_diag(np.exp(1j*2*pi/r*k_sw[i_k])*np.eye(Na),np.exp(1j*delta-1j*2*pi/r*k_sw[i_k])*np.eye(Nb),np.eye(N-Nflip))\n",
    "        Zk +=np.real(np.log( np.linalg.det( np.dot(np.dot(np.matrix(V1).H,op_k),V1) )))\n",
    "    return Zk\n",
    "\n"
   ]
  },
  {
   "cell_type": "code",
   "execution_count": 67,
   "metadata": {},
   "outputs": [],
   "source": [
    "\n",
    "N=14 # system size\n",
    "# Lsub_list=np.arange(0,N+1)\n",
    "Lsub_list=np.arange(2,7,1)\n",
    "# Lsub_list=[6]\n",
    "N_pt = int(N/2)\n",
    "Ns=4 # number of steps of random walker\n",
    "\n",
    "# reference slater determinant\n",
    "t= 0\n",
    "# hopping amplitudes\n",
    "t1= 1-t\n",
    "t2= 1+t\n",
    "BC=np.exp(1j*pi) # boundary condition on a chain, you can put BC=0 for open chain\n",
    "# BC=1 periodic boundary condition and BC=-1 is anti-periodic\n",
    "# do not put BC=1 since the gs is not unique in that case\n",
    "V1=wf_gen(N,N_pt,BC,t1,t2) # eigenvectors in \n",
    "\n",
    "\n",
    "def ent_plotter(r):\n",
    "    '''r=2 # Renyi/ Negativity index'''\n",
    "\n",
    "    Rr_ex=np.zeros(len(Lsub_list)) # Renyi entropy\n",
    "    RNr_ex=np.zeros(len(Lsub_list)) # Renyi negativity\n",
    "    RNr2_ex=np.zeros(len(Lsub_list)) # Renyi negativity 2\n",
    "    LN_ex=np.zeros(len(Lsub_list)) # Log negativity\n",
    "\n",
    "    Gmat=np.dot(V1,np.matrix(V1).H)\n",
    "\n",
    "    for i_L in range(len(Lsub_list)):\n",
    "        Lsub=Lsub_list[i_L]\n",
    "        inds_A= np.arange(0,Lsub_list[i_L])\n",
    "        inds_AB= np.arange(0,2*Lsub_list[i_L])\n",
    "\n",
    "        Rr_ex[i_L]=exact_renyi_calc(r,Gmat[np.ix_(inds_AB,inds_AB)])\n",
    "        RNr_ex[i_L]=exact_Renyi_neg_calc(r,N,Lsub,Lsub,V1)\n",
    "        RNr2_ex[i_L]=exact_Renyi_neg_calc2(r,Lsub,Lsub,Gmat[np.ix_(inds_AB,inds_AB)])\n",
    "    plt.figure()\n",
    "#     plt.plot(Lsub_list,-Rr_ex,'o',label='(-1) Renyi Entropy')\n",
    "    plt.plot(Lsub_list,(RNr_ex),'v',label='Renyi Neg')\n",
    "    if r % 2 ==0:\n",
    "        plt.plot(Lsub_list,(RNr2_ex),'x',label='Renyi Neg 2')\n",
    "    plt.title('r=%d Renyi index' % (r))\n",
    "    plt.xlabel('$\\ell$')\n",
    "    plt.legend()\n",
    "    plt.show()\n"
   ]
  },
  {
   "cell_type": "code",
   "execution_count": 68,
   "metadata": {},
   "outputs": [
    {
     "name": "stdout",
     "output_type": "stream",
     "text": [
      "5.545177444479562\n"
     ]
    },
    {
     "data": {
      "image/png": "[encoded data removed]",
      "text/plain": [
       "<Figure size 432x288 with 1 Axes>"
      ]
     },
     "metadata": {
      "needs_background": "light"
     },
     "output_type": "display_data"
    },
    {
     "data": {
      "image/png": "[encoded data removed]",
      "text/plain": [
       "<Figure size 432x288 with 1 Axes>"
      ]
     },
     "metadata": {
      "needs_background": "light"
     },
     "output_type": "display_data"
    },
    {
     "data": {
      "image/png": "[encoded data removed]",
      "text/plain": [
       "<Figure size 432x288 with 1 Axes>"
      ]
     },
     "metadata": {
      "needs_background": "light"
     },
     "output_type": "display_data"
    }
   ],
   "source": [
    "print(8*np.log(2))\n",
    "ent_plotter(r=2)\n",
    "ent_plotter(r=3)\n",
    "ent_plotter(r=4)"
   ]
  },
  {
   "cell_type": "code",
   "execution_count": 19,
   "metadata": {},
   "outputs": [
    {
     "data": {
      "image/png": "[encoded data removed]",
      "text/plain": [
       "<matplotlib.figure.Figure at 0x112db8fd0>"
      ]
     },
     "metadata": {},
     "output_type": "display_data"
    }
   ],
   "source": [
    "#plots log neg\n",
    "LN_ex=np.zeros(len(Lsub_list)) # Log negativity\n",
    "\n",
    "Gmat=np.dot(V1,np.matrix(V1).H)\n",
    "\n",
    "for i_L in range(len(Lsub_list)):\n",
    "    Lsub=Lsub_list[i_L]\n",
    "    inds_A= np.arange(0,Lsub_list[i_L])\n",
    "    inds_AB= np.arange(0,2*Lsub_list[i_L])\n",
    "    LN_ex[i_L]= exact_log_neg_calc(Lsub,Lsub,Gmat[np.ix_(inds_AB,inds_AB)])\n",
    "    \n",
    "plt.figure()\n",
    "plt.plot(np.log(Lsub_list),LN_ex,'s')\n",
    "xplot=np.log(np.tan(pi*Lsub_list/N))\n",
    "yplot=(xplot-xplot[0])/4+ 0.47\n",
    "plt.plot(np.log(Lsub_list),yplot,label='CFT')\n",
    "plt.legend()\n",
    "plt.ylim([0,2])\n",
    "plt.xlabel('$\\ln \\ell$')\n",
    "plt.ylabel('Log Neg')\n",
    "plt.show()"
   ]
  },
  {
   "cell_type": "code",
   "execution_count": null,
   "metadata": {},
   "outputs": [],
   "source": []
  }
 ],
 "metadata": {
  "kernelspec": {
   "display_name": "Python 3",
   "language": "python",
   "name": "python3"
  },
  "language_info": {
   "codemirror_mode": {
    "name": "ipython",
    "version": 3
   },
   "file_extension": ".py",
   "mimetype": "text/x-python",
   "name": "python",
   "nbconvert_exporter": "python",
   "pygments_lexer": "ipython3",
   "version": "3.8.3"
  }
 },
 "nbformat": 4,
 "nbformat_minor": 2
}
