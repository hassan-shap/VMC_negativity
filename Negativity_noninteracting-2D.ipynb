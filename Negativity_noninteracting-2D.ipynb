{
 "cells": [
  {
   "cell_type": "code",
   "execution_count": 1,
   "metadata": {},
   "outputs": [],
   "source": [
    "import numpy as np\n",
    "from scipy.linalg import block_diag\n",
    "import random\n",
    "from math import pi, sqrt\n",
    "import sys\n",
    "import os.path\n",
    "import matplotlib.pyplot as plt\n",
    "import time"
   ]
  },
  {
   "cell_type": "code",
   "execution_count": 4,
   "metadata": {},
   "outputs": [],
   "source": [
    "def hopp_vec(Mx,My,vec,px,py):\n",
    "    # generates hoping matrix on square lattice\n",
    "    # vec= hopping vector\n",
    "    # py=1 PBC along y otherwise OBC\n",
    "    # px=1 PBC along x otherwise OBC\n",
    "    \n",
    "    hopin=np.zeros(shape=(Mx*My,Mx*My),dtype=complex)\n",
    "    for i_y in range(My):\n",
    "        for i_x in range(Mx):\n",
    "            i_px=i_x+vec[0]\n",
    "            i_py=i_y+vec[1]\n",
    "            if ((i_px>=Mx or i_px<0) and i_py< My and i_py>=0):\n",
    "                if i_px>=Mx :\n",
    "                    hx=px\n",
    "                else:\n",
    "                    hx=px.conjugate()\n",
    "                i_px=i_px%Mx\n",
    "                hopin[i_px+i_py*Mx,i_x+i_y*Mx]=hx\n",
    "            elif ((i_py>=My or i_py<0) and i_px< Mx and i_px>=0):\n",
    "                if i_py>=My :\n",
    "                    hy=py\n",
    "                else:\n",
    "                    hy=py.conjugate()\n",
    "                    \n",
    "                i_py=i_py%My\n",
    "                hopin[i_px+i_py*Mx,i_x+i_y*Mx]=hy\n",
    "                    \n",
    "            elif (i_px>=Mx or i_px<0) and (i_py>=My or i_py<0):\n",
    "                if i_px>=Mx:\n",
    "                    hx=px\n",
    "                else:\n",
    "                    hx=px.conjugate()\n",
    "    \n",
    "                if i_py>=My:\n",
    "                    hy=py\n",
    "                else:\n",
    "                    hy=py.conjugate()\n",
    "                i_px=i_px%Mx\n",
    "                i_py=i_py%My\n",
    "                hopin[i_px+i_py*Mx,i_x+i_y*Mx]=hx*hy\n",
    "                \n",
    "            elif i_px>=0 and i_px<Mx and i_py>=0 and i_py<My :\n",
    "                hopin[i_px+i_py*Mx,i_x+i_y*Mx]=1\n",
    "                    \n",
    "    return hopin\n",
    "\n",
    "\n",
    "# generates single particle states\n",
    "def wf_gen(Lx,Ly,px,py,N_pt,t):\n",
    "    H1_hop=hopp_vec(Lx,Ly,[0,1],px,py)+hopp_vec(Lx,Ly,[1,0],px,py)\n",
    "    H1=-t*(H1_hop+H1_hop.T)/2\n",
    "    energies, evecs= np.linalg.eigh(H1)\n",
    "    return evecs[:,:N_pt]"
   ]
  },
  {
   "cell_type": "code",
   "execution_count": 5,
   "metadata": {},
   "outputs": [],
   "source": [
    "def exact_renyi_calc(r,GA,epsilon=1e-9):\n",
    "    chi0, _ =np.linalg.eigh(GA)\n",
    "    chi1=chi0[np.nonzero(np.abs(chi0)>epsilon)]\n",
    "    chi2=chi1[np.nonzero(np.abs(chi1-1)>epsilon)]\n",
    "#     return -np.sum((1-chi2)*np.log(1-chi2)+chi2*np.log(chi2))\n",
    "    return np.sum(np.log((1-chi2)**r+chi2**r))/(1-r)\n",
    "\n",
    "\n",
    "def exact_log_neg_calc(Na,Nb,GA,epsilon=1e-9):\n",
    "    \"\"\"computes log negativity of 1d free fermions\"\"\"\n",
    "    Nt=Na+Nb\n",
    "\n",
    "    Gm=np.eye(Nt)-2*GA\n",
    "    Sp=np.array([[0,1],[0,0]])\n",
    "    Gm_1=block_diag(-Gm[:Na,:Na],Gm[Na:,Na:])\\\n",
    "        +np.kron(Sp,-1j*Gm[:Na,Na:])+np.kron(Sp.T,-1j*Gm[Na:,:Na])\n",
    "    Gm_2=block_diag(-Gm[:Na,:Na],Gm[Na:,Na:])\\\n",
    "        +np.kron(Sp,1j*Gm[:Na,Na:])+np.kron(Sp.T,1j*Gm[Na:,:Na])    \n",
    "    Gx=np.dot(np.eye(Nt)-Gm_2,np.dot(np.linalg.inv(np.eye(Nt)+np.dot(Gm_1,Gm_2)),np.eye(Nt)-Gm_1))/2\n",
    "    Gxh=(Gx+np.transpose(Gx).conj())/2\n",
    "\n",
    "    chi0 =np.linalg.eigvalsh(Gxh)\n",
    "    i0=np.nonzero(np.abs(chi0)>epsilon)[0]\n",
    "    chi1=chi0[i0]\n",
    "    i1=np.nonzero(np.abs(chi1-1)>epsilon)[0]\n",
    "    nu=chi1[i1]\n",
    "    eA=np.sum(np.log(nu**0.5+(1-nu)**0.5))\n",
    "    \n",
    "    chi,VR=np.linalg.eigh(GA)\n",
    "    sA=np.sum(np.log(chi**2+(1-chi)**2))/2    \n",
    "\n",
    "    return eA+sA\n",
    "\n",
    "def exact_Renyi_neg_calc2(r,Na,Nb,GA,epsilon=1e-9):\n",
    "    \"\"\"computes log negativity of 1d free fermions only works for even r\"\"\"\n",
    "    Nt=Na+Nb\n",
    "\n",
    "    Gm=np.eye(Nt)-2*GA\n",
    "    Sp=np.array([[0,1],[0,0]])\n",
    "    Gm_1=block_diag(-Gm[:Na,:Na],Gm[Na:,Na:])\\\n",
    "        +np.kron(Sp,-1j*Gm[:Na,Na:])+np.kron(Sp.T,-1j*Gm[Na:,:Na])\n",
    "    Gm_2=block_diag(-Gm[:Na,:Na],Gm[Na:,Na:])\\\n",
    "        +np.kron(Sp,1j*Gm[:Na,Na:])+np.kron(Sp.T,1j*Gm[Na:,:Na])    \n",
    "    Gx=np.dot(np.eye(Nt)-Gm_2,np.dot(np.linalg.inv(np.eye(Nt)+np.dot(Gm_1,Gm_2)),np.eye(Nt)-Gm_1))/2\n",
    "    Gxh=(Gx+np.transpose(Gx).conj())/2\n",
    "\n",
    "    chi0 =np.linalg.eigvalsh(Gxh)\n",
    "    i0=np.nonzero(np.abs(chi0)>epsilon)[0]\n",
    "    chi1=chi0[i0]\n",
    "    i1=np.nonzero(np.abs(chi1-1)>epsilon)[0]\n",
    "    nu=chi1[i1]\n",
    "    eA=np.sum(np.log(nu**(r/2)+(1-nu)**(r/2)))\n",
    "    \n",
    "    chi,VR=np.linalg.eigh(GA)\n",
    "    sA=r*np.sum(np.log(chi**2+(1-chi)**2))/2    \n",
    "\n",
    "    return eA+sA\n",
    "\n",
    "def exact_Renyi_neg_calc(r,N,Na,Nb,V1):\n",
    "    '''computes moments of partial transpose tr(\\rho^T \\rho^T\\dag ... )\n",
    "    for 1d free fermions ''' \n",
    "    k_sw=np.arange((-(r-1)/2),(r-1)/2+0.1,1)\n",
    "    Zk=0\n",
    "    if (r % 2) == 0:\n",
    "        delta=pi\n",
    "    else:\n",
    "        delta= pi*(r-1)/r\n",
    "#     delta=pi\n",
    "\n",
    "    Nflip=Na+Nb\n",
    "    N1=int((N-Nflip)/2)\n",
    "\n",
    "    for i_k in range(len(k_sw)):\n",
    "#         op_k=block_diag(np.eye(N1),np.exp(1j*2*pi/r*k_sw[i_k])*np.eye(Na),np.exp(1j*delta-1j*2*pi/r*k_sw[i_k])*np.eye(Nb),np.eye(N1))\n",
    "        op_k=block_diag(np.exp(1j*2*pi/r*k_sw[i_k])*np.eye(Na),np.exp(1j*delta-1j*2*pi/r*k_sw[i_k])*np.eye(Nb),np.eye(N-Nflip))\n",
    "        Zk +=np.real(np.log( np.linalg.det( np.dot(np.dot(np.matrix(V1).H,op_k),V1) )))\n",
    "    return Zk\n",
    "\n"
   ]
  },
  {
   "cell_type": "code",
   "execution_count": 29,
   "metadata": {},
   "outputs": [],
   "source": [
    "Lx=20\n",
    "Ly=40\n",
    "N=Lx*Ly\n",
    "Npt=int(N/2)\n",
    "t = 1  # hopping amplitude\n",
    "px=-1 # BC along x\n",
    "py=-1 # BC along y\n",
    "\n",
    "V1 = wf_gen(Lx,Ly,px,py,Npt,t)\n",
    "\n",
    "Lysub_list=np.arange(2,Ly/2,1)\n",
    "\n",
    "\n",
    "def ent_plotter(r):\n",
    "    '''r=2 # Renyi/ Negativity index'''\n",
    "\n",
    "    Rr_ex=np.zeros(len(Lysub_list)) # Renyi entropy\n",
    "    RNr_ex=np.zeros(len(Lysub_list)) # Renyi negativity\n",
    "    RNr2_ex=np.zeros(len(Lysub_list)) # Renyi negativity 2\n",
    "    LN_ex=np.zeros(len(Lysub_list)) # Log negativity\n",
    "\n",
    "    Gmat=np.dot(V1,np.matrix(V1).H)\n",
    "\n",
    "    for i_L in range(len(Lysub_list)):\n",
    "        Lysub=Lysub_list[i_L]\n",
    "        inds_A = np.arange(0,int(Lx*Lysub))\n",
    "        inds_AB = np.arange(0,int(2*Lx*Lysub))\n",
    "        Nsub =  int(Lx*Lysub)\n",
    "        Rr_ex[i_L] = exact_renyi_calc(r,Gmat[np.ix_(inds_AB,inds_AB)])\n",
    "        RNr_ex[i_L] = exact_Renyi_neg_calc(r,N,Nsub,Nsub,V1)\n",
    "        RNr2_ex[i_L] = exact_Renyi_neg_calc2(r,Nsub,Nsub,Gmat[np.ix_(inds_AB,inds_AB)])\n",
    "    plt.figure()\n",
    "#     plt.plot(Lsub_list,-Rr_ex,'o',label='(-1) Renyi Entropy')\n",
    "    plt.plot(Lysub_list,(RNr_ex),'v',label='Renyi Neg')\n",
    "    if r % 2 ==0:\n",
    "        plt.plot(Lysub_list,(RNr2_ex),'x',label='Renyi Neg 2')\n",
    "    plt.title('r=%d Renyi index' % (r))\n",
    "    plt.xlabel('$\\ell$')\n",
    "    plt.legend()\n",
    "    plt.show()\n"
   ]
  },
  {
   "cell_type": "code",
   "execution_count": 30,
   "metadata": {},
   "outputs": [
    {
     "data": {
      "image/png": "[encoded data removed]",
      "text/plain": [
       "<Figure size 432x288 with 1 Axes>"
      ]
     },
     "metadata": {
      "needs_background": "light"
     },
     "output_type": "display_data"
    },
    {
     "data": {
      "image/png": "[encoded data removed]",
      "text/plain": [
       "<Figure size 432x288 with 1 Axes>"
      ]
     },
     "metadata": {
      "needs_background": "light"
     },
     "output_type": "display_data"
    },
    {
     "data": {
      "image/png": "[encoded data removed]",
      "text/plain": [
       "<Figure size 432x288 with 1 Axes>"
      ]
     },
     "metadata": {
      "needs_background": "light"
     },
     "output_type": "display_data"
    }
   ],
   "source": [
    "ent_plotter(r=2)\n",
    "ent_plotter(r=3)\n",
    "ent_plotter(r=4)"
   ]
  },
  {
   "cell_type": "code",
   "execution_count": 31,
   "metadata": {},
   "outputs": [
    {
     "name": "stderr",
     "output_type": "stream",
     "text": [
      "No handles with labels found to put in legend.\n"
     ]
    },
    {
     "data": {
      "image/png": "[encoded data removed]",
      "text/plain": [
       "<Figure size 432x288 with 1 Axes>"
      ]
     },
     "metadata": {
      "needs_background": "light"
     },
     "output_type": "display_data"
    }
   ],
   "source": [
    "#plots log neg\n",
    "\n",
    "LN_ex=np.zeros(len(Lysub_list)) # Log negativity\n",
    "\n",
    "Gmat=np.dot(V1,np.matrix(V1).H)\n",
    "\n",
    "for i_L in range(len(Lysub_list)):\n",
    "    Lysub=Lysub_list[i_L]\n",
    "    inds_A = np.arange(0,int(Lx*Lysub))\n",
    "    inds_AB = np.arange(0,int(2*Lx*Lysub))\n",
    "    Nsub =  int(Lx*Lysub)\n",
    "    LN_ex[i_L]= exact_log_neg_calc(Nsub,Nsub,Gmat[np.ix_(inds_AB,inds_AB)])\n",
    "    \n",
    "plt.figure()\n",
    "plt.plot(np.log(Lysub_list),LN_ex,'s')\n",
    "# xplot=np.log(np.tan(pi*Lsub_list/N))\n",
    "# yplot=(xplot-xplot[0])/4+ 0.47\n",
    "# plt.plot(np.log(Lsub_list),yplot,label='CFT')\n",
    "# plt.legend()\n",
    "# plt.ylim([0,2])\n",
    "plt.xlabel('$\\ln \\ell_y$')\n",
    "plt.ylabel('Log Neg')\n",
    "plt.show()"
   ]
  },
  {
   "cell_type": "code",
   "execution_count": null,
   "metadata": {},
   "outputs": [],
   "source": []
  }
 ],
 "metadata": {
  "kernelspec": {
   "display_name": "Python 3",
   "language": "python",
   "name": "python3"
  },
  "language_info": {
   "codemirror_mode": {
    "name": "ipython",
    "version": 3
   },
   "file_extension": ".py",
   "mimetype": "text/x-python",
   "name": "python",
   "nbconvert_exporter": "python",
   "pygments_lexer": "ipython3",
   "version": "3.8.3"
  }
 },
 "nbformat": 4,
 "nbformat_minor": 2
}
