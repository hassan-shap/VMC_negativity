{
 "cells": [
  {
   "cell_type": "code",
   "execution_count": 5,
   "metadata": {},
   "outputs": [],
   "source": [
    "import numpy as np\n",
    "import matplotlib.pyplot as plt\n",
    "from math import pi, sqrt"
   ]
  },
  {
   "cell_type": "code",
   "execution_count": 3,
   "metadata": {},
   "outputs": [],
   "source": [
    "def hopp_vec(Mx,My,vec,px,py):\n",
    "    '''generates MxM on-slice hopping_matg matrix cubic lattice\n",
    "     vec= hopping vector\n",
    "     py=1 PBC along y otherwise OBC\n",
    "     px=1 PBC along x otherwise OBC\n",
    "    ''' \n",
    "    \n",
    "    hopping_mat=np.zeros(shape=(Mx*My,Mx*My),dtype=complex)\n",
    "    for i_y in range(My):\n",
    "        for i_x in range(Mx):\n",
    "            i_px=i_x+vec[0]\n",
    "            i_py=i_y+vec[1]\n",
    "            if ((i_px>=Mx or i_px<0) and i_py< My and i_py>=0):\n",
    "                if i_px>=Mx :\n",
    "                    hx=px\n",
    "                else:\n",
    "                    hx=px.conjugate()\n",
    "                i_px=i_px%Mx\n",
    "                hopping_mat[i_px+i_py*Mx,i_x+i_y*Mx]=hx\n",
    "            elif ((i_py>=My or i_py<0) and i_px< Mx and i_px>=0):\n",
    "                if i_py>=My :\n",
    "                    hy=py\n",
    "                else:\n",
    "                    hy=py.conjugate()\n",
    "                    \n",
    "                i_py=i_py%My\n",
    "                hopping_mat[i_px+i_py*Mx,i_x+i_y*Mx]=hy\n",
    "                    \n",
    "            elif (i_px>=Mx or i_px<0) and (i_py>=My or i_py<0):\n",
    "                if i_px>=Mx:\n",
    "                    hx=px\n",
    "                else:\n",
    "                    hx=px.conjugate()\n",
    "    \n",
    "                if i_py>=My:\n",
    "                    hy=py\n",
    "                else:\n",
    "                    hy=py.conjugate()\n",
    "                i_px=i_px%Mx\n",
    "                i_py=i_py%My\n",
    "                hopping_mat[i_px+i_py*Mx,i_x+i_y*Mx]=hx*hy\n",
    "                \n",
    "            elif i_px>=0 and i_px<Mx and i_py>=0 and i_py<My :\n",
    "                hopping_mat[i_px+i_py*Mx,i_x+i_y*Mx]=1\n",
    "    return hopping_mat\n",
    "\n",
    "def wf_gen(Mx,My,N_pt,r,t,m,px,py):\n",
    "    '''\n",
    "    returns eigenvalues and eigenvectors of pi-flux model\n",
    "    Mx x My sites on a square lattice\n",
    "    N_pt: total number of particles (choose half filling for insulating phase)\n",
    "    t: nearest neighbor hopping\n",
    "    r: next nearest neighbor hopping (delta in arXiv:1412.5597 notation)\n",
    "    m: onsite +/- potential\n",
    "    px: complex phase of hopping across vertical edge\n",
    "    py: complex phase of hopping across horizontal edge    \n",
    "    '''\n",
    "    tx=t\n",
    "    ty=t    \n",
    "    x_sign=np.diag(np.power(-1,np.mod(np.arange(0,Mx*My),Mx)))\n",
    "    y_sign=np.diag(np.power(-1,np.floor(np.arange(0,Mx*My)/Mx)))\n",
    "    H_x=tx*hopp_vec(Mx,My,[1,0],px,py)\n",
    "    H_y=ty*np.dot(x_sign,hopp_vec(Mx,My,[0,1],px,py))\n",
    "    H_xy_nn=-1j*r*np.dot(x_sign,hopp_vec(Mx,My,[1,1],px,py))\n",
    "    H_Mxy_nn=1j*r*np.dot(x_sign,hopp_vec(Mx,My,[-1,1],px,py))\n",
    "    H_dd=m*np.dot(y_sign,x_sign)  \n",
    "    H_t=H_x+H_y+H_xy_nn+H_Mxy_nn\n",
    "    H_t=H_t+np.transpose(H_t.conjugate())+H_dd      \n",
    "    evals,evecs=np.linalg.eigh(H_t)\n",
    "    evals=evals.real\n",
    "    evecs=evecs[:,evals.argsort()]\n",
    "    evals.sort()\n",
    "    evecs=evecs[:,0:N_pt]\n",
    "    evals=evals[0:N_pt]\n",
    "    return evals,evecs\n"
   ]
  },
  {
   "cell_type": "code",
   "execution_count": 9,
   "metadata": {},
   "outputs": [
    {
     "data": {
      "image/png": "[encoded data removed]",
      "text/plain": [
       "<Figure size 432x288 with 1 Axes>"
      ]
     },
     "metadata": {
      "needs_background": "light"
     },
     "output_type": "display_data"
    }
   ],
   "source": [
    "### system dims\n",
    "Lx= 10\n",
    "Ly= 10\n",
    "### bdy conditions\n",
    "px=1\n",
    "py=1\n",
    "N_pt = int(Lx*Ly/2) # number of particles\n",
    "### hopping parameters\n",
    "t = 2\n",
    "r = 1\n",
    "m = 0\n",
    "\n",
    "evals, evecs= wf_gen(Lx,Ly,N_pt,r,t,m,px,py)\n",
    "\n",
    "plt.figure()\n",
    "plt.plot(evals,'o')\n",
    "plt.ylabel('eigenvalues')\n",
    "plt.show()\n",
    "\n"
   ]
  },
  {
   "cell_type": "code",
   "execution_count": null,
   "metadata": {},
   "outputs": [],
   "source": []
  }
 ],
 "metadata": {
  "kernelspec": {
   "display_name": "Python 3",
   "language": "python",
   "name": "python3"
  },
  "language_info": {
   "codemirror_mode": {
    "name": "ipython",
    "version": 3
   },
   "file_extension": ".py",
   "mimetype": "text/x-python",
   "name": "python",
   "nbconvert_exporter": "python",
   "pygments_lexer": "ipython3",
   "version": "3.8.3"
  }
 },
 "nbformat": 4,
 "nbformat_minor": 4
}
